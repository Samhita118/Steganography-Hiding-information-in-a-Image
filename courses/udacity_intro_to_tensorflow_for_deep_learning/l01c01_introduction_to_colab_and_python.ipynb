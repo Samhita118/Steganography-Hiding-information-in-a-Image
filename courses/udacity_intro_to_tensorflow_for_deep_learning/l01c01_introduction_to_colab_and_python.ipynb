{
  "cells": [
    {
      "cell_type": "markdown",
      "metadata": {
        "id": "view-in-github",
        "colab_type": "text"
      },
      "source": [
        "<a href=\"https://colab.research.google.com/github/Samhita118/Steganography-Hiding-information-in-a-Image/blob/main/courses/udacity_intro_to_tensorflow_for_deep_learning/l01c01_introduction_to_colab_and_python.ipynb\" target=\"_parent\"><img src=\"https://colab.research.google.com/assets/colab-badge.svg\" alt=\"Open In Colab\"/></a>"
      ]
    },
    {
      "cell_type": "markdown",
      "metadata": {
        "id": "Za8-Nr5k11fh"
      },
      "source": [
        "##### Copyright 2018 The TensorFlow Authors."
      ]
    },
    {
      "cell_type": "code",
      "execution_count": 1,
      "metadata": {
        "cellView": "form",
        "id": "Eq10uEbw0E4l"
      },
      "outputs": [],
      "source": [
        "#@title Licensed under the Apache License, Version 2.0 (the \"License\");\n",
        "# you may not use this file except in compliance with the License.\n",
        "# You may obtain a copy of the License at\n",
        "#\n",
        "# https://www.apache.org/licenses/LICENSE-2.0\n",
        "#\n",
        "# Unless required by applicable law or agreed to in writing, software\n",
        "# distributed under the License is distributed on an \"AS IS\" BASIS,\n",
        "# WITHOUT WARRANTIES OR CONDITIONS OF ANY KIND, either express or implied.\n",
        "# See the License for the specific language governing permissions and\n",
        "# limitations under the License."
      ]
    },
    {
      "cell_type": "markdown",
      "metadata": {
        "id": "YHI3vyhv5p85"
      },
      "source": [
        "## **Introduction to Colab and Python**"
      ]
    },
    {
      "cell_type": "markdown",
      "metadata": {
        "id": "OVi775ZJ2bsy"
      },
      "source": [
        "<table class=\"tfo-notebook-buttons\" align=\"left\">\n",
        "  <td>\n",
        "    <a target=\"_blank\" href=\"https://colab.research.google.com/github/tensorflow/examples/blob/master/courses/udacity_intro_to_tensorflow_for_deep_learning/l01c01_introduction_to_colab_and_python.ipynb\"><img src=\"https://www.tensorflow.org/images/colab_logo_32px.png\" />Run in Google Colab</a>\n",
        "  </td>\n",
        "  <td>\n",
        "    <a target=\"_blank\" href=\"https://github.com/tensorflow/examples/blob/master/courses/udacity_intro_to_tensorflow_for_deep_learning/l01c01_introduction_to_colab_and_python.ipynb\"><img src=\"https://www.tensorflow.org/images/GitHub-Mark-32px.png\" />View source on GitHub</a>\n",
        "  </td>\n",
        "</table>"
      ]
    },
    {
      "cell_type": "markdown",
      "metadata": {
        "id": "F8YVA_634OFk"
      },
      "source": [
        "Welcome to this Colab where you will get a quick introduction to the Python programming language and the environment used for the course's exercises: Colab.\n",
        "\n",
        "Colab is a Python development environment that runs in the browser using Google Cloud.\n",
        "\n",
        "For example, to print \"Hello World\", just hover the mouse over [ ] and press the play button to the upper left. Or press shift-enter to execute."
      ]
    },
    {
      "cell_type": "code",
      "execution_count": 2,
      "metadata": {
        "id": "X9uIpOS2zx7k",
        "colab": {
          "base_uri": "https://localhost:8080/"
        },
        "outputId": "dbba857b-c602-4a90-8b12-bea0f24f6c0d"
      },
      "outputs": [
        {
          "output_type": "stream",
          "name": "stdout",
          "text": [
            "Hello World\n"
          ]
        }
      ],
      "source": [
        "print(\"Hello World\")"
      ]
    },
    {
      "cell_type": "markdown",
      "metadata": {
        "id": "wwJGmDrQ0EoB"
      },
      "source": [
        "## Functions, Conditionals, and Iteration\n",
        "Let's create a Python function, and call it from a loop."
      ]
    },
    {
      "cell_type": "code",
      "execution_count": 3,
      "metadata": {
        "id": "pRllo2HLfXiu",
        "colab": {
          "base_uri": "https://localhost:8080/"
        },
        "outputId": "bccf5c87-2d24-487b-958f-c362cc6bbc3b"
      },
      "outputs": [
        {
          "output_type": "stream",
          "name": "stdout",
          "text": [
            "--- Now running with i: 8\n",
            "Hello World, x was < 10\n",
            "Result from HelloWorld: 16\n",
            "--- Now running with i: 13\n",
            "Hello World, x was >= 10 but < 20\n",
            "Result from HelloWorld: 26\n",
            "--- Now running with i: 18\n",
            "Hello World, x was >= 10 but < 20\n",
            "Result from HelloWorld: 36\n",
            "--- Now running with i: 23\n",
            "Hello World, x was >= 20\n",
            "Result from HelloWorld: 46\n"
          ]
        }
      ],
      "source": [
        "def HelloWorldXY(x, y):\n",
        "  if (x < 10):\n",
        "    print(\"Hello World, x was < 10\")\n",
        "  elif (x < 20):\n",
        "    print(\"Hello World, x was >= 10 but < 20\")\n",
        "  else:\n",
        "    print(\"Hello World, x was >= 20\")\n",
        "  return x + y\n",
        "\n",
        "for i in range(8, 25, 5):  # i=8, 13, 18, 23 (start, stop, step)\n",
        "  print(\"--- Now running with i: {}\".format(i))\n",
        "  r = HelloWorldXY(i,i)\n",
        "  print(\"Result from HelloWorld: {}\".format(r))"
      ]
    },
    {
      "cell_type": "code",
      "execution_count": 4,
      "metadata": {
        "id": "lHNmDCh0JpVP",
        "colab": {
          "base_uri": "https://localhost:8080/"
        },
        "outputId": "7f890529-dbf7-418a-ad4d-07286763a54e"
      },
      "outputs": [
        {
          "output_type": "stream",
          "name": "stdout",
          "text": [
            "Hello World, x was < 10\n",
            "3\n"
          ]
        }
      ],
      "source": [
        "print(HelloWorldXY(1,2))"
      ]
    },
    {
      "cell_type": "markdown",
      "metadata": {
        "id": "kiZG7uhm8qCF"
      },
      "source": [
        "Easy, right?\n",
        "\n",
        "If you want a loop starting at 0 to 2 (exclusive) you could do any of the following"
      ]
    },
    {
      "cell_type": "code",
      "execution_count": 5,
      "metadata": {
        "id": "m8YQN1H41L-Y",
        "colab": {
          "base_uri": "https://localhost:8080/"
        },
        "outputId": "8d2416da-5404-46f0-98f8-22fd758a635c"
      },
      "outputs": [
        {
          "output_type": "stream",
          "name": "stdout",
          "text": [
            "Iterate over the items. `range(2)` is like a list [0,1].\n",
            "0\n",
            "1\n",
            "Iterate over an actual list.\n",
            "0\n",
            "1\n",
            "While works\n",
            "0\n",
            "1\n"
          ]
        }
      ],
      "source": [
        "print(\"Iterate over the items. `range(2)` is like a list [0,1].\")\n",
        "for i in range(2):\n",
        "  print(i)\n",
        "\n",
        "print(\"Iterate over an actual list.\")\n",
        "for i in [0,1]:\n",
        "  print(i)\n",
        "\n",
        "print(\"While works\")\n",
        "i = 0\n",
        "while i < 2:\n",
        "  print(i)\n",
        "  i += 1"
      ]
    },
    {
      "cell_type": "code",
      "execution_count": 6,
      "metadata": {
        "id": "vIgmFZq4zszl",
        "colab": {
          "base_uri": "https://localhost:8080/"
        },
        "outputId": "856e063e-8293-48fa-cbf5-03017c9044a3"
      },
      "outputs": [
        {
          "output_type": "stream",
          "name": "stdout",
          "text": [
            "Python supports standard key words like continue and break\n",
            "Entered while\n"
          ]
        }
      ],
      "source": [
        "print(\"Python supports standard key words like continue and break\")\n",
        "while True:\n",
        "  print(\"Entered while\")\n",
        "  break"
      ]
    },
    {
      "cell_type": "markdown",
      "metadata": {
        "id": "5QyOUhFw1OUX"
      },
      "source": [
        "## Numpy and lists\n",
        "Python has lists built into the language.\n",
        "However, we will use a library called numpy for this.\n",
        "Numpy gives you lots of support functions that are useful when doing Machine Learning.\n",
        "\n",
        "Here, you will also see an import statement. This statement makes the entire numpy package available and we can access those symbols using the abbreviated 'np' syntax."
      ]
    },
    {
      "cell_type": "code",
      "execution_count": 7,
      "metadata": {
        "id": "4Dxk4q-jzEy4",
        "colab": {
          "base_uri": "https://localhost:8080/"
        },
        "outputId": "4a6bed59-be27-4141-a260-467baf2d41cd"
      },
      "outputs": [
        {
          "output_type": "stream",
          "name": "stdout",
          "text": [
            "Current array: ['Hello' 'World' '!']\n",
            "Printing each element\n",
            "Hello\n",
            "World\n",
            "!\n",
            "\n",
            "Printing each element and their index\n",
            "Index: 0, was: Hello\n",
            "Index: 1, was: World\n",
            "Index: 2, was: !\n"
          ]
        }
      ],
      "source": [
        "import numpy as np  # Make numpy available using np.\n",
        "\n",
        "# Create a numpy array, and append an element\n",
        "a = np.array([\"Hello\", \"World\"])\n",
        "a = np.append(a, \"!\")\n",
        "print(\"Current array: {}\".format(a))\n",
        "print(\"Printing each element\")\n",
        "for i in a:\n",
        "  print(i)\n",
        "\n",
        "print(\"\\nPrinting each element and their index\")\n",
        "for i,e in enumerate(a):\n",
        "  print(\"Index: {}, was: {}\".format(i, e))"
      ]
    },
    {
      "cell_type": "code",
      "execution_count": 8,
      "metadata": {
        "id": "RTa8_9G3LV03",
        "colab": {
          "base_uri": "https://localhost:8080/"
        },
        "outputId": "faebb2d0-3585-4736-88e6-2739a1b7ac85"
      },
      "outputs": [
        {
          "output_type": "stream",
          "name": "stdout",
          "text": [
            "\n",
            "Showing some basic math on arrays\n",
            "Max: 4\n",
            "Average: 2.0\n",
            "Max index: 2\n"
          ]
        }
      ],
      "source": [
        "print(\"\\nShowing some basic math on arrays\")\n",
        "b = np.array([0,1,4,3,2])\n",
        "print(\"Max: {}\".format(np.max(b)))\n",
        "print(\"Average: {}\".format(np.average(b)))\n",
        "print(\"Max index: {}\".format(np.argmax(b)))"
      ]
    },
    {
      "cell_type": "code",
      "execution_count": 9,
      "metadata": {
        "id": "9YaGj5n4LW7P",
        "colab": {
          "base_uri": "https://localhost:8080/"
        },
        "outputId": "59421b76-0cd0-4936-92e1-b21672118141"
      },
      "outputs": [
        {
          "output_type": "stream",
          "name": "stdout",
          "text": [
            "\n",
            "You can print the type of anything\n",
            "Type of b: <class 'numpy.ndarray'>, type of b[0]: <class 'numpy.int64'>\n"
          ]
        }
      ],
      "source": [
        "print(\"\\nYou can print the type of anything\")\n",
        "print(\"Type of b: {}, type of b[0]: {}\".format(type(b), type(b[0])))"
      ]
    },
    {
      "cell_type": "code",
      "execution_count": 10,
      "metadata": {
        "id": "V6ilVhi9LXn_",
        "colab": {
          "base_uri": "https://localhost:8080/"
        },
        "outputId": "d861a680-390f-4e87-dbfd-019ace7bbe88"
      },
      "outputs": [
        {
          "output_type": "stream",
          "name": "stdout",
          "text": [
            "\n",
            "Use numpy to create a [3,3] dimension array with random number\n",
            "[[0.53544105 0.78842814 0.03810857]\n",
            " [0.83450848 0.32645105 0.82110354]\n",
            " [0.44780759 0.42601852 0.22436469]]\n"
          ]
        }
      ],
      "source": [
        "print(\"\\nUse numpy to create a [3,3] dimension array with random number\")\n",
        "c = np.random.rand(3, 3)\n",
        "print(c)"
      ]
    },
    {
      "cell_type": "code",
      "execution_count": 11,
      "metadata": {
        "id": "W_Q-DkFCLYGA",
        "colab": {
          "base_uri": "https://localhost:8080/"
        },
        "outputId": "fde0d14a-3866-4a1e-d983-5b62f507e850"
      },
      "outputs": [
        {
          "output_type": "stream",
          "name": "stdout",
          "text": [
            "\n",
            "You can print the dimensions of arrays\n",
            "Shape of a: (3,)\n",
            "Shape of b: (5,)\n",
            "Shape of c: (3, 3)\n",
            "...Observe, Python uses both [0,1,2] and (0,1,2) to specify lists\n"
          ]
        }
      ],
      "source": [
        "print(\"\\nYou can print the dimensions of arrays\")\n",
        "print(\"Shape of a: {}\".format(a.shape))\n",
        "print(\"Shape of b: {}\".format(b.shape))\n",
        "print(\"Shape of c: {}\".format(c.shape))\n",
        "print(\"...Observe, Python uses both [0,1,2] and (0,1,2) to specify lists\")"
      ]
    },
    {
      "cell_type": "markdown",
      "metadata": {
        "id": "c-Jk4dG91dvD"
      },
      "source": [
        "## Colab Specifics"
      ]
    },
    {
      "cell_type": "markdown",
      "metadata": {
        "id": "G0cGd8sHEmKi"
      },
      "source": [
        "Colab is a virtual machine you can access directly. To run commands at the VM's terminal, prefix the line with an exclamation point (!).\n"
      ]
    },
    {
      "cell_type": "code",
      "execution_count": 12,
      "metadata": {
        "id": "cLkfhyzq0W2y",
        "colab": {
          "base_uri": "https://localhost:8080/"
        },
        "outputId": "cbbdc3cd-be39-4e9d-e6eb-ef591be5231e"
      },
      "outputs": [
        {
          "output_type": "stream",
          "name": "stdout",
          "text": [
            "\n",
            "Doing $ls on filesystem\n",
            "total 4\n",
            "drwxr-xr-x 1 root root 4096 Jun 26 13:35 sample_data\n",
            "/content\n"
          ]
        }
      ],
      "source": [
        "print(\"\\nDoing $ls on filesystem\")\n",
        "!ls -l\n",
        "!pwd"
      ]
    },
    {
      "cell_type": "code",
      "execution_count": 13,
      "metadata": {
        "id": "gR2WTN1cOZ1n",
        "colab": {
          "base_uri": "https://localhost:8080/"
        },
        "outputId": "de316f8d-9833-43de-f022-34b344c29d0a"
      },
      "outputs": [
        {
          "output_type": "stream",
          "name": "stdout",
          "text": [
            "Install numpy\n",
            "Requirement already satisfied: numpy in /usr/local/lib/python3.11/dist-packages (2.0.2)\n"
          ]
        }
      ],
      "source": [
        "print(\"Install numpy\")  # Just for test, numpy is actually preinstalled in all Colab instances\n",
        "!pip install numpy"
      ]
    },
    {
      "cell_type": "markdown",
      "metadata": {
        "id": "QuWRpQdatAIU"
      },
      "source": [
        "**Exercise**\n",
        "\n",
        "Create a code cell underneath this text cell and add code to:\n",
        "\n",
        "\n",
        "*   List the path of the current directory (pwd)\n",
        "* Go to / (cd) and list the content (ls -l)"
      ]
    },
    {
      "cell_type": "code",
      "execution_count": 14,
      "metadata": {
        "id": "xU-cJbMCR61P",
        "colab": {
          "base_uri": "https://localhost:8080/"
        },
        "outputId": "152df5a1-cda3-475e-de35-c32daf23114b"
      },
      "outputs": [
        {
          "output_type": "stream",
          "name": "stdout",
          "text": [
            "/content\n",
            "total 4\n",
            "drwxr-xr-x 1 root root 4096 Jun 26 13:35 sample_data\n",
            "Hello\n"
          ]
        }
      ],
      "source": [
        "!pwd\n",
        "!cd /\n",
        "!ls -l\n",
        "print(\"Hello\")"
      ]
    },
    {
      "cell_type": "markdown",
      "metadata": {
        "id": "7b5jv0ouFREV"
      },
      "source": [
        "All usage of Colab in this course is completely free or charge. Even GPU usage is provided free of charge for some hours of usage every day.\n",
        "\n",
        "**Using GPUs**\n",
        "* Many of the exercises in the course executes more quickly by using GPU runtime: Runtime | Change runtime type | Hardware accelerator | GPU\n",
        "\n",
        "**Some final words on Colab**\n",
        "*   You execute each cell in order, you can edit & re-execute cells if you want\n",
        "*   Sometimes, this could have unintended consequences. For example, if you add a dimension to an array and execute the cell multiple times, then the cells after may not work. If you encounter problem reset your environment:\n",
        "  *   Runtime -> Restart runtime... Resets your Python shell\n",
        "  *   Runtime -> Restart all runtimes... Will reset the Colab image, and get you back to a 100% clean environment\n",
        "* You can also clear the output in the Colab by doing: Edit -> Clear all outputs\n",
        "* Colabs in this course are loaded from GitHub. Save to your Google Drive if you want a copy with your code/output: File -> Save a copy in Drive...\n",
        "\n",
        "**Learn More**\n",
        "*   Check out [this](https://www.youtube.com/watch?v=inN8seMm7UI&list=PLQY2H8rRoyvwLbzbnKJ59NkZvQAW9wLbx&index=3) episode of #CodingTensorFlow, and don't forget to subscribe to the YouTube channel ;)\n"
      ]
    },
    {
      "cell_type": "code",
      "source": [
        "import cv2\n",
        "import string\n",
        "import os\n",
        "from Crypto.Cipher import AES\n",
        "from Crypto.Util.Padding import pad, unpad\n",
        "from Crypto.Random import get_random_bytes\n",
        "import hashlib\n",
        "import numpy as np # Moved import to the top\n",
        "\n",
        "def derive_key(userkey):\n",
        "    return hashlib.sha256(userkey.encode()).digest()[:16]\n",
        "\n",
        "def encrypt_msg(msg, userkey):\n",
        "    key = derive_key(userkey) #hashing key\n",
        "    cipher = AES.new(key, AES.MODE_CBC)\n",
        "    ct = cipher.encrypt(pad(msg.encode(), AES.block_size))\n",
        "    return cipher.iv + ct\n",
        "\n",
        "def decrypt_message(cipher_bytes, userkey):\n",
        "    key = derive_key(userkey)\n",
        "    iv = cipher_bytes[:16]\n",
        "    ct = cipher_bytes[16:]\n",
        "    cipher = AES.new(key, AES.MODE_CBC, iv)\n",
        "    return unpad(cipher.decrypt(ct), AES.block_size).decode()\n",
        "\n",
        "\n",
        "d = {}\n",
        "c = {}\n",
        "for i in range(256):\n",
        "    d[chr(i)] = i\n",
        "    c[i] = chr(i)\n",
        "\n",
        "# Use a raw string for the file path\n",
        "# In Colab, you generally upload files or access them from Google Drive/Cloud Storage\n",
        "# Replace \"C:\\Users\\bkumari\\OneDrive - Motherson Group\\Desktop\\Stengo\" with the actual path to your image file in Colab\n",
        "try:\n",
        "    x = cv2.imread(\"encrypted_img (1).jpg\")\n",
        "    if x is None:\n",
        "        raise FileNotFoundError(\"Image not found at the specified path.\")\n",
        "except FileNotFoundError as e:\n",
        "    print(e)\n",
        "    # Create a dummy image if the file is not found for demonstration purposes\n",
        "    x = np.zeros((100, 100, 3), dtype=np.uint8)\n",
        "    print(\"Using a dummy image for demonstration.\")\n",
        "\n",
        "\n",
        "i, j = x.shape[0], x.shape[1]\n",
        "print(\"Image size :\", i, j)\n",
        "\n",
        "key = input(\"Enter key to encrypt & hide(Security Key) :\")\n",
        "text = input(\"Enter the text to hide:\")\n",
        "\n",
        "encrypted_bytes = encrypt_msg(text, key)\n",
        "l = len(encrypted_bytes)\n",
        "print(f\"Encrypted message length(in bytes) :{l}\")\n",
        "\n",
        "n = 0\n",
        "m = 0\n",
        "z = 0\n",
        "kl = 0\n",
        "# Create a copy of the image to store the encrypted data\n",
        "x_enc = x.copy()\n",
        "for i in range(l):\n",
        "    # Ensure we don't go out of bounds of the image\n",
        "    if n >= x_enc.shape[0] or m >= x_enc.shape[1] or z >= x_enc.shape[2]:\n",
        "        print(\"Warning: Encrypted message is larger than the image size.\")\n",
        "        break\n",
        "    # XOR the pixel value with the corresponding encrypted byte and key character value\n",
        "    x_enc[n, m, z] = encrypted_bytes[i] ^ d[key[kl % len(key)]]\n",
        "    n = n + 1\n",
        "    # Move to the next pixel\n",
        "    if n >= x_enc.shape[0]:\n",
        "        n = 0\n",
        "        m = m + 1\n",
        "        if m >= x_enc.shape[1]:\n",
        "            m = 0\n",
        "            z = z + 1\n",
        "            if z >= x_enc.shape[2]:\n",
        "                break # Stop if we've covered all color channels\n",
        "\n",
        "    kl = (kl + 1) % len(key)\n",
        "\n",
        "# Use cv2.imwrite to save the image\n",
        "cv2.imwrite(\"encrypted_img(1).jpg\", x_enc)\n",
        "# os.startfile is not available in Colab. The file will be saved in the Colab environment.\n",
        "print(\"Data successfully hideen and image saved as 'encrypted_img.jpg'.\")\n",
        "\n",
        "n, m, z = 0, 0, 0\n",
        "kl = 0\n",
        "ch = int(input(\"\\nEnter 1 to extract data from image :\"))\n",
        "if ch == 1:\n",
        "    key1 = input(\"Re-enter key to extract text: \")\n",
        "    if key == key1:\n",
        "       encrypted_back = bytearray()\n",
        "       for i in range(l):\n",
        "        # Ensure we don't go out of bounds of the image\n",
        "        if n >= x.shape[0] or m >= x.shape[1] or z >= x.shape[2]:\n",
        "            print(\"Warning: Reached end of image while extracting.\")\n",
        "            break\n",
        "        # XOR the pixel value with the corresponding key character value to get back the encrypted byte\n",
        "        encrypted_back.append(x_enc[n, m, z] ^ d[key1[kl % len(key1)]])\n",
        "        n = n + 1\n",
        "        # Move to the next pixel\n",
        "        if n >= x.shape[0]:\n",
        "            n = 0\n",
        "            m = m + 1\n",
        "            if m >= x.shape[1]:\n",
        "                m = 0\n",
        "                z = z + 1\n",
        "                if z >= x_enc.shape[2]:\n",
        "                    break # Stop if we've covered all color channels\n",
        "\n",
        "        kl = (kl + 1) % len(key1)\n",
        "\n",
        "       try:\n",
        "            decrypted = decrypt_message(bytes(encrypted_back), key1)\n",
        "            print(\"Decryped secret message : \" , decrypted)\n",
        "       except Exception as e:\n",
        "            print(f\"Decryption failed. Possibly wrong key, corrupted image, or other error: {e}\")\n",
        "    else:\n",
        "        print(\"Key mismatch. Try later\")\n",
        "else:\n",
        "    print(\"Thank you. Exiting. \")"
      ],
      "metadata": {
        "colab": {
          "base_uri": "https://localhost:8080/"
        },
        "id": "rZPpsgZBXzfi",
        "outputId": "ef650081-5516-4cd0-d6d6-910fe0fe2041"
      },
      "execution_count": null,
      "outputs": [
        {
          "output_type": "stream",
          "name": "stdout",
          "text": [
            "Image not found at the specified path.\n",
            "Using a dummy image for demonstration.\n",
            "Image size : 100 100\n"
          ]
        }
      ]
    },
    {
      "cell_type": "code",
      "metadata": {
        "colab": {
          "base_uri": "https://localhost:8080/"
        },
        "id": "a93daeff",
        "outputId": "73807900-3ed0-4002-aea5-677591540016"
      },
      "source": [
        "!pip install pycryptodome"
      ],
      "execution_count": 16,
      "outputs": [
        {
          "output_type": "stream",
          "name": "stdout",
          "text": [
            "Collecting pycryptodome\n",
            "  Downloading pycryptodome-3.23.0-cp37-abi3-manylinux_2_17_x86_64.manylinux2014_x86_64.whl.metadata (3.4 kB)\n",
            "Downloading pycryptodome-3.23.0-cp37-abi3-manylinux_2_17_x86_64.manylinux2014_x86_64.whl (2.3 MB)\n",
            "\u001b[?25l   \u001b[90m━━━━━━━━━━━━━━━━━━━━━━━━━━━━━━━━━━━━━━━━\u001b[0m \u001b[32m0.0/2.3 MB\u001b[0m \u001b[31m?\u001b[0m eta \u001b[36m-:--:--\u001b[0m\r\u001b[2K   \u001b[91m━━━━━━━━━━━━━━━━━━━━━━━━━━━━━━━\u001b[0m\u001b[90m╺\u001b[0m\u001b[90m━━━━━━━━\u001b[0m \u001b[32m1.8/2.3 MB\u001b[0m \u001b[31m53.3 MB/s\u001b[0m eta \u001b[36m0:00:01\u001b[0m\r\u001b[2K   \u001b[90m━━━━━━━━━━━━━━━━━━━━━━━━━━━━━━━━━━━━━━━━\u001b[0m \u001b[32m2.3/2.3 MB\u001b[0m \u001b[31m42.6 MB/s\u001b[0m eta \u001b[36m0:00:00\u001b[0m\n",
            "\u001b[?25hInstalling collected packages: pycryptodome\n",
            "Successfully installed pycryptodome-3.23.0\n"
          ]
        }
      ]
    },
    {
      "cell_type": "code",
      "source": [
        "from google.colab import files\n",
        "\n",
        "uploaded = files.upload()\n",
        "\n",
        "for fn in uploaded.keys():\n",
        "  print('User uploaded file \"{name}\" with length {length} bytes'.format(\n",
        "      name=fn, length=len(uploaded[fn])))"
      ],
      "metadata": {
        "id": "inETBrnpzyHq"
      },
      "execution_count": null,
      "outputs": []
    }
  ],
  "metadata": {
    "accelerator": "GPU",
    "colab": {
      "name": "l01c01_introduction_to_colab_and_python.ipynb",
      "toc_visible": true,
      "provenance": [],
      "include_colab_link": true
    },
    "kernelspec": {
      "display_name": "Python 3",
      "name": "python3"
    }
  },
  "nbformat": 4,
  "nbformat_minor": 0
}